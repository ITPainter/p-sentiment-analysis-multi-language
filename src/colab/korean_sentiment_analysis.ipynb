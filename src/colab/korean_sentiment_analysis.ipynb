{
 "cells": [
  {
   "cell_type": "markdown",
   "metadata": {
    "id": "korean-title"
   },
   "source": [
    "# 🇰🇷 한국어 감성분석 (Korean Sentiment Analysis)\n",
    "\n",
    "Google Colab에서 실행 가능한 한국어 텍스트 감성분석 시스템입니다.\n",
    "\n",
    "## 📋 기능\n",
    "- Excel 파일에서 한국어 텍스트 읽기\n",
    "- 한국어 전용 감성분석 모델 사용\n",
    "- 결과를 Excel 파일로 저장\n",
    "\n",
    "## 🚀 사용법\n",
    "1. Excel 파일을 업로드 (텍스트 컬럼 포함)\n",
    "2. 코드 실행\n",
    "3. 결과 다운로드"
   ]
  },
  {
   "cell_type": "markdown",
   "metadata": {
    "id": "install-deps"
   },
   "source": [
    "## 📦 필요한 패키지 설치"
   ]
  },
  {
   "cell_type": "code",
   "execution_count": null,
   "metadata": {
    "id": "install-packages"
   },
   "outputs": [],
   "source": [
    "# 필요한 패키지 설치\n",
    "!pip install torch transformers pandas openpyxl matplotlib seaborn wordcloud"
   ]
  },
  {
   "cell_type": "markdown",
   "metadata": {
    "id": "imports"
   },
   "source": [
    "## 🔧 라이브러리 임포트"
   ]
  },
  {
   "cell_type": "code",
   "execution_count": null,
   "metadata": {
    "id": "import-libraries"
   },
   "outputs": [],
   "source": [
    "import torch\n",
    "from transformers import AutoTokenizer, AutoModelForSequenceClassification\n",
    "import pandas as pd\n",
    "import numpy as np\n",
    "import matplotlib.pyplot as plt\n",
    "import seaborn as sns\n",
    "from wordcloud import WordCloud\n",
    "import warnings\n",
    "warnings.filterwarnings('ignore')\n",
    "\n",
    "# 한글 폰트 설정\n",
    "plt.rcParams['font.family'] = ['DejaVu Sans', 'Arial Unicode MS']\n",
    "plt.rcParams['axes.unicode_minus'] = False\n",
    "\n",
    "print(\"✅ 라이브러리 임포트 완료\")"
   ]
  },
  {
   "cell_type": "markdown",
   "metadata": {
    "id": "model-loading"
   },
   "source": [
    "## 🤖 한국어 감성분석 모델 로드"
   ]
  },
  {
   "cell_type": "code",
   "execution_count": null,
   "metadata": {
    "id": "load-model"
   },
   "outputs": [],
   "source": [
    "# 한국어 감성분석 모델 로드\n",
    "model_name = \"snunlp/KR-FinBert-SC\"\n",
    "\n",
    "print(f\"📥 모델 다운로드 중: {model_name}\")\n",
    "tokenizer = AutoTokenizer.from_pretrained(model_name)\n",
    "model = AutoModelForSequenceClassification.from_pretrained(model_name)\n",
    "\n",
    "# GPU 사용 가능시 GPU 사용\n",
    "device = torch.device('cuda' if torch.cuda.is_available() else 'cpu')\n",
    "model = model.to(device)\n",
    "\n",
    "print(f\"✅ 모델 로드 완료 (장치: {device}\")\n",
    "print(f\"📊 모델: {model_name}\")"
   ]
  },
  {
   "cell_type": "markdown",
   "metadata": {
    "id": "file-upload"
   },
   "source": [
    "## 📁 Excel 파일 업로드"
   ]
  },
  {
   "cell_type": "code",
   "execution_count": null,
   "metadata": {
    "id": "upload-file"
   },
   "outputs": [],
   "source": [
    "from google.colab import files\n",
    "\n",
    "print(\"📁 Excel 파일을 업로드해주세요...\")\n",
    "uploaded = files.upload()\n",
    "\n",
    "# 업로드된 파일명 확인\n",
    "file_name = list(uploaded.keys())[0]\n",
    "print(f\"✅ 파일 업로드 완료: {file_name}\")"
   ]
  },
  {
   "cell_type": "markdown",
   "metadata": {
    "id": "read-excel"
   },
   "source": [
    "## 📊 Excel 파일 읽기"
   ]
  },
  {
   "cell_type": "code",
   "execution_count": null,
   "metadata": {
    "id": "read-excel-file"
   },
   "outputs": [],
   "source": [
    "# Excel 파일 읽기\n",
    "df = pd.read_excel(file_name)\n",
    "print(f\"📊 데이터 로드 완료: {len(df)} 행\")\n",
    "print(f\"📋 컬럼: {list(df.columns)}\")\n",
    "print(\"\\n🔍 데이터 미리보기:\")\n",
    "display(df.head())"
   ]
  },
  {
   "cell_type": "markdown",
   "metadata": {
    "id": "select-column"
   },
   "source": [
    "## 🎯 텍스트 컬럼 선택"
   ]
  },
  {
   "cell_type": "code",
   "execution_count": null,
   "metadata": {
    "id": "select-text-column"
   },
   "outputs": [],
   "source": [
    "# 텍스트 컬럼 선택 (자동 감지)\n",
    "text_columns = []\n",
    "for col in df.columns:\n",
    "    if df[col].dtype == 'object':  # 문자열 타입 컬럼\n",
    "        text_columns.append(col)\n",
    "\n",
    "if text_columns:\n",
    "    text_column = text_columns[0]  # 첫 번째 텍스트 컬럼 사용\n",
    "    print(f\"✅ 텍스트 컬럼 선택: {text_column}\")\n",
    "else:\n",
    "    print(\"❌ 텍스트 컬럼을 찾을 수 없습니다.\")\n",
    "    text_column = None\n",
    "\n",
    "if text_column:\n",
    "    print(f\"\\n📝 텍스트 샘플:\")\n",
    "    for i, text in enumerate(df[text_column].head()):\n",
    "        print(f\"{i+1}. {text}\")"
   ]
  },
  {
   "cell_type": "markdown",
   "metadata": {
    "id": "sentiment-analysis"
   },
   "source": [
    "## 🧠 감성분석 실행"
   ]
  },
  {
   "cell_type": "code",
   "execution_count": null,
   "metadata": {
    "id": "run-sentiment-analysis"
   },
   "outputs": [],
   "source": [
    "def analyze_sentiment(text):\n",
    "    \"\"\"텍스트의 감성을 분석합니다.\"\"\"\n",
    "    if pd.isna(text) or str(text).strip() == \"\":\n",
    "        return \"neutral\", 0.0\n",
    "    \n",
    "    # 토큰화\n",
    "    inputs = tokenizer(str(text), return_tensors=\"pt\", truncation=True, max_length=512)\n",
    "    inputs = {k: v.to(device) for k, v in inputs.items()}\n",
    "    \n",
    "    # 예측\n",
    "    with torch.no_grad():\n",
    "        outputs = model(**inputs)\n",
    "        probabilities = torch.softmax(outputs.logits, dim=-1)\n",
    "        \n",
    "    # 결과 해석\n",
    "    scores = probabilities[0].cpu().numpy()\n",
    "    \n",
    "    # KR-FinBert-SC: [negative, positive, neutral]\n",
    "    labels = [\"negative\", \"positive\", \"neutral\"]\n",
    "    predicted_label = labels[np.argmax(scores)]\n",
    "    confidence = float(np.max(scores))\n",
    "    \n",
    "    return predicted_label, confidence\n",
    "\n",
    "# 감성분석 실행\n",
    "print(\"🧠 감성분석 실행 중...\")\n",
    "results = []\n",
    "\n",
    "for idx, text in enumerate(df[text_column]):\n",
    "    sentiment, confidence = analyze_sentiment(text)\n",
    "    results.append({\n",
    "        'text': text,\n",
    "        'sentiment': sentiment,\n",
    "        'confidence': confidence\n",
    "    })\n",
    "    \n",
    "    if (idx + 1) % 10 == 0:\n",
    "        print(f\"진행률: {idx + 1}/{len(df)} ({((idx + 1)/len(df)*100):.1f}%)\")\n",
    "\n",
    "print(\"✅ 감성분석 완료!\")"
   ]
  },
  {
   "cell_type": "markdown",
   "metadata": {
    "id": "results-display"
   },
   "source": [
    "## 📊 결과 표시"
   ]
  },
  {
   "cell_type": "code",
   "execution_count": null,
   "metadata": {
    "id": "show-results"
   },
   "outputs": [],
   "source": [
    "# 결과를 DataFrame으로 변환\n",
    "results_df = pd.DataFrame(results)\n",
    "results_df['original_text'] = df[text_column]\n",
    "\n",
    "# 감성별 통계\n",
    "sentiment_counts = results_df['sentiment'].value_counts()\n",
    "print(\"📊 감성분석 결과:\")\n",
    "print(f\"총 텍스트 수: {len(results_df)}\")\n",
    "print(\"\\n감성별 분포:\")\n",
    "for sentiment, count in sentiment_counts.items():\n",
    "    percentage = (count / len(results_df)) * 100\n",
    "    print(f\"- {sentiment}: {count}개 ({percentage:.1f}%)\")\n",
    "\n",
    "print(\"\\n🔍 상세 결과:\")\n",
    "display(results_df.head(10))"
   ]
  },
  {
   "cell_type": "markdown",
   "metadata": {
    "id": "visualization"
   },
   "source": [
    "## 📈 시각화"
   ]
  },
  {
   "cell_type": "code",
   "execution_count": null,
   "metadata": {
    "id": "create-charts"
   },
   "outputs": [],
   "source": [
    "# 1. 감성별 막대 차트\n",
    "plt.figure(figsize=(10, 6))\n",
    "sentiment_counts.plot(kind='bar', color=['#ff6b6b', '#4ecdc4', '#45b7d1'])\n",
    "plt.title('한국어 텍스트 감성분석 결과', fontsize=16, fontweight='bold')\n",
    "plt.xlabel('감성')\n",
    "plt.ylabel('텍스트 수')\n",
    "plt.xticks(rotation=45)\n",
    "plt.tight_layout()\n",
    "plt.show()\n",
    "\n",
    "# 2. 감성별 파이 차트\n",
    "plt.figure(figsize=(8, 8))\n",
    "colors = ['#ff6b6b', '#4ecdc4', '#45b7d1']\n",
    "plt.pie(sentiment_counts.values, labels=sentiment_counts.index, autopct='%1.1f%%', colors=colors)\n",
    "plt.title('감성별 비율', fontsize=16, fontweight='bold')\n",
    "plt.axis('equal')\n",
    "plt.show()\n",
    "\n",
    "# 3. 신뢰도 분포\n",
    "plt.figure(figsize=(10, 6))\n",
    "plt.hist(results_df['confidence'], bins=20, alpha=0.7, color='skyblue', edgecolor='black')\n",
    "plt.title('감성분석 신뢰도 분포', fontsize=16, fontweight='bold')\n",
    "plt.xlabel('신뢰도')\n",
    "plt.ylabel('빈도')\n",
    "plt.tight_layout()\n",
    "plt.show()\n",
    "\n",
    "print(\"✅ 차트 생성 완료!\")"
   ]
  },
  {
   "cell_type": "markdown",
   "metadata": {
    "id": "save-results"
   },
   "source": [
    "## 💾 결과 저장"
   ]
  },
  {
   "cell_type": "code",
   "execution_count": null,
   "metadata": {
    "id": "save-to-excel"
   },
   "outputs": [],
   "source": [
    "# 결과를 Excel 파일로 저장\n",
    "output_filename = f\"korean_sentiment_analysis_result_{pd.Timestamp.now().strftime('%Y%m%d_%H%M%S')}.xlsx\"\n",
    "\n",
    "with pd.ExcelWriter(output_filename, engine='openpyxl') as writer:\n",
    "    # 원본 데이터와 결과\n",
    "    combined_df = df.copy()\n",
    "    combined_df['감성분석_결과'] = results_df['sentiment']\n",
    "    combined_df['신뢰도'] = results_df['confidence']\n",
    "    combined_df.to_excel(writer, sheet_name='감성분석_결과', index=False)\n",
    "    \n",
    "    # 감성별 통계\n",
    "    stats_df = pd.DataFrame({\n",
    "        '감성': sentiment_counts.index,\n",
    "        '텍스트_수': sentiment_counts.values,\n",
    "        '비율(%)': [(count / len(results_df)) * 100 for count in sentiment_counts.values]\n",
    "    })\n",
    "    stats_df.to_excel(writer, sheet_name='감성별_통계', index=False)\n",
    "\n",
    "print(f\"✅ 결과 저장 완료: {output_filename}\")\n",
    "print(\"📁 파일을 다운로드하려면 다음 셀을 실행하세요.\")"
   ]
  },
  {
   "cell_type": "markdown",
   "metadata": {
    "id": "download"
   },
   "source": [
    "## 📥 결과 파일 다운로드"
   ]
  },
  {
   "cell_type": "code",
   "execution_count": null,
   "metadata": {
    "id": "download-file"
   },
   "outputs": [],
   "source": [
    "# 결과 파일 다운로드\n",
    "files.download(output_filename)\n",
    "print(\"✅ 파일 다운로드 완료!\")"
   ]
  },
  {
   "cell_type": "markdown",
   "metadata": {
    "id": "summary"
   },
   "source": [
    "## 🎉 완료!\n",
    "\n",
    "한국어 텍스트 감성분석이 성공적으로 완료되었습니다!\n",
    "\n",
    "### 📋 수행된 작업:\n",
    "1. ✅ 한국어 감성분석 모델 로드\n",
    "2. ✅ Excel 파일 업로드 및 읽기\n",
    "3. ✅ 텍스트 컬럼 자동 감지\n",
    "4. ✅ 감성분석 실행\n",
    "5. ✅ 결과 시각화\n",
    "6. ✅ Excel 파일로 결과 저장\n",
    "7. ✅ 결과 파일 다운로드\n",
    "\n",
    "### 💡 다음에 사용할 때:\n",
    "- 이 노트북을 복사하여 새로운 분석에 사용\n",
    "- 다른 한국어 텍스트 데이터로 분석 가능\n",
    "- 모델은 한 번만 다운로드하면 됨"
   ]
  }
 ],
 "metadata": {
  "colab": {
   "name": "한국어 감성분석",
   "provenance": []
  },
  "kernelspec": {
   "display_name": "Python 3",
   "language": "python",
   "name": "python3"
  },
  "language_info": {
   "codemirror_mode": {
    "name": "ipython",
    "version": 3
   },
   "file_extension": ".py",
   "name": "python",
   "nbconvert_exporter": "python",
   "pygments_lexer": "ipython3",
   "version": "3.8.5"
  }
 },
 "nbformat": 4,
 "nbformat_minor": 4
}
