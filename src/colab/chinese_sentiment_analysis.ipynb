{
  "cells": [
    {
      "cell_type": "markdown",
      "metadata": {
        "id": "chinese-title"
      },
      "source": [
        "# 🇨🇳 중국어 감성분석 (Chinese Sentiment Analysis)\n\n",
        "Google Colab에서 실행 가능한 중국어 텍스트 감성분석 시스템입니다.\n\n",
        "## 📋 기능\n",
        "- Excel 파일에서 중국어 텍스트 읽기\n",
        "- 중국어 전용 감성분석 모델 사용\n",
        "- 결과를 Excel 파일로 저장\n\n",
        "## 🚀 사용법\n",
        "1. Excel 파일을 업로드 (텍스트 컬럼 포함)\n",
        "2. 코드 실행\n",
        "3. 결과 다운로드"
      ]
    },
    {
      "cell_type": "markdown",
      "metadata": {
        "id": "install-deps"
      },
      "source": [
        "## 📦 필요한 패키지 설치"
      ]
    },
    {
      "cell_type": "code",
      "execution_count": null,
      "metadata": {
        "id": "install-packages"
      },
      "outputs": [],
      "source": [
        "# 필요한 패키지 설치\n",
        "pip install -r requirements.txt install torch transformers pandas openpyxl matplotlib seaborn wordcloud jieba"
      ]
    }
  ],
  "metadata": {
    "colab": {
      "name": "중국어 감성분석",
      "provenance": []
    },
    "kernelspec": {
      "display_name": "Python 3",
      "language": "python",
      "name": "python3"
    },
    "language_info": {
      "codemirror_mode": {
        "name": "ipython",
        "version": 3
      },
      "file_extension": ".py",
      "mimetype": "text/x-python",
      "name": "python",
      "nbconvert_exporter": "python",
      "pygments_lexer": "ipython3",
      "version": "3.8.5"
    }
  },
  "nbformat": 4,
  "nbformat_minor": 4
}